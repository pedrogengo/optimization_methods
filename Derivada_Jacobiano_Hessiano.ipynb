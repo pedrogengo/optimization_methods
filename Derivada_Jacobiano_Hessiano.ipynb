{
 "cells": [
  {
   "cell_type": "code",
   "execution_count": 16,
   "metadata": {},
   "outputs": [],
   "source": [
    "import sympy as sp\n",
    "import prompt_toolkit\n",
    "from sympy import Matrix\n",
    "from sympy import*\n",
    "from IPython.core.interactiveshell import InteractiveShell\n",
    "InteractiveShell.ast_node_interactivity = \"all\""
   ]
  },
  {
   "cell_type": "code",
   "execution_count": 32,
   "metadata": {},
   "outputs": [],
   "source": [
    "x,y,x1,x2,x3,x4,y1,y2,y3,y4 = Symbol('x'), Symbol('y'),Symbol('x1'),Symbol('x2'),Symbol('x3'),Symbol('x4'), Symbol('y1'),Symbol('y2'),Symbol('y3'),Symbol('y4')\n",
    "\n",
    "def Derivada(X):\n",
    "    \"\"\"\n",
    "    Calcula a a primeira derivada da função especificada. Aceita até 10 variáveis simultaneamente, sendo elas x, y, x1, x2, x3, x4, y1, y2, y3 e y4.\n",
    "    \"\"\"\n",
    "    \n",
    "    funcao = X.diff(input(\"Digite a varíavel a ser usada para derivação. \\n\"))\n",
    "    \n",
    "    \n",
    "    return funcao\n",
    "    \n",
    "    "
   ]
  },
  {
   "cell_type": "code",
   "execution_count": 20,
   "metadata": {},
   "outputs": [],
   "source": [
    "def Jacobiano_Hessiano(X,Y):\n",
    "    \"\"\"\n",
    "    Calcula o Jacobiano da função especificada. Aceita até 10 variáveis simultaneamente, sendo elas x, y, x1, x2, x3, x4, y1, y2, y3 e y4.\n",
    "    Chame por Jacobiano_Hessiano(X,Y).\n",
    "    \"\"\"\n",
    "    return  X.jacobian(Y).T\n",
    "    \n",
    "def Hessiano(X,Y):\n",
    "    \"\"\"\n",
    "    Calcula o Hessiano da função especificada. Aceita até 10 variáveis simultaneamente, sendo elas x, y, x1, x2, x3, x4, y1, y2, y3 e y4.\n",
    "    Chame por Jacobiano_Hessiano(X,Y).\n",
    "    \"\"\"\n",
    "    \n",
    "    return hessian(X,Y)\n",
    "    \n",
    "    "
   ]
  },
  {
   "cell_type": "markdown",
   "metadata": {},
   "source": [
    "# Definindo a Função e Variáveis de Diferenciação\n",
    "Digite a função sem utilizar pacotes e em seguida digite as variáveis da função separadas por vírgula.\n",
    "\n",
    "## Exemplo:\n",
    "\n",
    "Função:            \n",
    "\n",
    "<center> $e^{x1-x3} * (x2-1)^2 + x1^2 + x2^2 + x3^2$ \n",
    "    \n",
    "Variáveis: \n",
    "<center> $x1,x2,x3$ "
   ]
  },
  {
   "cell_type": "code",
   "execution_count": 49,
   "metadata": {},
   "outputs": [
    {
     "name": "stdout",
     "output_type": "stream",
     "text": [
      "Digite a função. NOTA: Não coloque pacotes - Ex: usar exp ao invés de np.exp \n",
      "exp(x1-x3) * (x2-1)**2 + x1**2 + x2**2 + x3**2\n",
      "Digite as variáveis para derivação parcial separadas por virgula - Ex: x,y\n",
      "x1,x2,x3\n"
     ]
    }
   ],
   "source": [
    "X = Matrix([sympify(input(\"Digite a função. NOTA: Não coloque pacotes - Ex: usar exp ao invés de np.exp \\n\"))])\n",
    "Y = Matrix([sympify(input(\"Digite as variáveis para derivação parcial separadas por virgula - Ex: x,y\\n\"))])"
   ]
  },
  {
   "cell_type": "markdown",
   "metadata": {},
   "source": [
    "# Calculando apenas uma derivada\n",
    "\n",
    "Escolha a variável para derivar."
   ]
  },
  {
   "cell_type": "code",
   "execution_count": 50,
   "metadata": {},
   "outputs": [
    {
     "name": "stdout",
     "output_type": "stream",
     "text": [
      "Digite a varíavel a ser usada para derivação. \n",
      "x2\n"
     ]
    },
    {
     "data": {
      "text/latex": [
       "$\\displaystyle \\left[\\begin{matrix}2 x_{2} + \\left(2 x_{2} - 2\\right) e^{x_{1} - x_{3}}\\end{matrix}\\right]$"
      ],
      "text/plain": [
       "Matrix([[2*x2 + (2*x2 - 2)*exp(x1 - x3)]])"
      ]
     },
     "execution_count": 50,
     "metadata": {},
     "output_type": "execute_result"
    }
   ],
   "source": [
    "Derivada(X)"
   ]
  },
  {
   "cell_type": "markdown",
   "metadata": {},
   "source": [
    "# Calculando Jacobiano e Hessiano"
   ]
  },
  {
   "cell_type": "code",
   "execution_count": 51,
   "metadata": {},
   "outputs": [
    {
     "name": "stdout",
     "output_type": "stream",
     "text": [
      "Função: \n"
     ]
    },
    {
     "data": {
      "text/latex": [
       "$\\displaystyle \\left[\\begin{matrix}x_{1}^{2} + x_{2}^{2} + x_{3}^{2} + \\left(x_{2} - 1\\right)^{2} e^{x_{1} - x_{3}}\\end{matrix}\\right]$"
      ],
      "text/plain": [
       "Matrix([[x1**2 + x2**2 + x3**2 + (x2 - 1)**2*exp(x1 - x3)]])"
      ]
     },
     "execution_count": 51,
     "metadata": {},
     "output_type": "execute_result"
    },
    {
     "name": "stdout",
     "output_type": "stream",
     "text": [
      "Jacobiano: \n"
     ]
    },
    {
     "data": {
      "text/latex": [
       "$\\displaystyle \\left[\\begin{matrix}2 x_{1} + \\left(x_{2} - 1\\right)^{2} e^{x_{1} - x_{3}}\\\\2 x_{2} + \\left(2 x_{2} - 2\\right) e^{x_{1} - x_{3}}\\\\2 x_{3} - \\left(x_{2} - 1\\right)^{2} e^{x_{1} - x_{3}}\\end{matrix}\\right]$"
      ],
      "text/plain": [
       "Matrix([\n",
       "[2*x1 + (x2 - 1)**2*exp(x1 - x3)],\n",
       "[ 2*x2 + (2*x2 - 2)*exp(x1 - x3)],\n",
       "[2*x3 - (x2 - 1)**2*exp(x1 - x3)]])"
      ]
     },
     "execution_count": 51,
     "metadata": {},
     "output_type": "execute_result"
    },
    {
     "name": "stdout",
     "output_type": "stream",
     "text": [
      "Hessiano: \n"
     ]
    },
    {
     "data": {
      "text/latex": [
       "$\\displaystyle \\left[\\begin{matrix}\\left(x_{2} - 1\\right)^{2} e^{x_{1} - x_{3}} + 2 & \\left(2 x_{2} - 2\\right) e^{x_{1} - x_{3}} & - \\left(x_{2} - 1\\right)^{2} e^{x_{1} - x_{3}}\\\\\\left(2 x_{2} - 2\\right) e^{x_{1} - x_{3}} & 2 e^{x_{1} - x_{3}} + 2 & - \\left(2 x_{2} - 2\\right) e^{x_{1} - x_{3}}\\\\- \\left(x_{2} - 1\\right)^{2} e^{x_{1} - x_{3}} & - \\left(2 x_{2} - 2\\right) e^{x_{1} - x_{3}} & \\left(x_{2} - 1\\right)^{2} e^{x_{1} - x_{3}} + 2\\end{matrix}\\right]$"
      ],
      "text/plain": [
       "Matrix([\n",
       "[(x2 - 1)**2*exp(x1 - x3) + 2,  (2*x2 - 2)*exp(x1 - x3),    -(x2 - 1)**2*exp(x1 - x3)],\n",
       "[     (2*x2 - 2)*exp(x1 - x3),       2*exp(x1 - x3) + 2,     -(2*x2 - 2)*exp(x1 - x3)],\n",
       "[   -(x2 - 1)**2*exp(x1 - x3), -(2*x2 - 2)*exp(x1 - x3), (x2 - 1)**2*exp(x1 - x3) + 2]])"
      ]
     },
     "execution_count": 51,
     "metadata": {},
     "output_type": "execute_result"
    }
   ],
   "source": [
    "print(\"Função: \")\n",
    "X\n",
    "print(\"Jacobiano: \")\n",
    "Jacobiano_Hessiano(X,Y)\n",
    "print(\"Hessiano: \")\n",
    "Hessiano(X,Y)"
   ]
  },
  {
   "cell_type": "code",
   "execution_count": null,
   "metadata": {},
   "outputs": [],
   "source": []
  }
 ],
 "metadata": {
  "kernelspec": {
   "display_name": "Python 3",
   "language": "python",
   "name": "python3"
  },
  "language_info": {
   "codemirror_mode": {
    "name": "ipython",
    "version": 3
   },
   "file_extension": ".py",
   "mimetype": "text/x-python",
   "name": "python",
   "nbconvert_exporter": "python",
   "pygments_lexer": "ipython3",
   "version": "3.6.8"
  }
 },
 "nbformat": 4,
 "nbformat_minor": 2
}
